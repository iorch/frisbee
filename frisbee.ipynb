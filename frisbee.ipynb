{
  "nbformat": 4,
  "nbformat_minor": 0,
  "metadata": {
    "colab": {
      "name": "frisbee.ipynb",
      "provenance": [],
      "authorship_tag": "ABX9TyNBpbTCQLDYFhTKhL1j/an4",
      "include_colab_link": true
    },
    "kernelspec": {
      "name": "python3",
      "display_name": "Python 3"
    },
    "language_info": {
      "name": "python"
    }
  },
  "cells": [
    {
      "cell_type": "markdown",
      "metadata": {
        "id": "view-in-github",
        "colab_type": "text"
      },
      "source": [
        "<a href=\"https://colab.research.google.com/github/iorch/frisbee/blob/main/frisbee.ipynb\" target=\"_parent\"><img src=\"https://colab.research.google.com/assets/colab-badge.svg\" alt=\"Open In Colab\"/></a>"
      ]
    },
    {
      "cell_type": "code",
      "execution_count": 1,
      "metadata": {
        "id": "maFASXmTJQ2k"
      },
      "outputs": [],
      "source": [
        "#@title\n",
        "import matplotlib.pyplot as plt\n",
        "from matplotlib.patches import (Rectangle, ConnectionPatch, Wedge, Circle,\n",
        "                                CirclePolygon)\n",
        "\n",
        "\n",
        "def draw_pitch(ax):\n",
        "    # focus on only half of the pitch\n",
        "    #Pitch Outline & Centre Line\n",
        "    Pitch = Rectangle([0,0], width = 110, height = 37, fill = False)\n",
        "    #Left, Right Penalty Area and midline\n",
        "    LeftTouchDown = Rectangle([0,0], width = 23, height = 37, fill = False,\n",
        "                              hatch = \"/\", edgecolor = \"red\")\n",
        "    RightTouchDown = Rectangle([87,0], width = 23, height = 37, fill = False,\n",
        "                              hatch = \"/\", edgecolor = \"blue\")\n",
        "    #midline = ConnectionPatch([50,0], [50,37], \"data\", \"data\")\n",
        "    \n",
        "    LeftBrickMark =    plt.Circle((41,18.5),0.61,color=\"black\")\n",
        "\n",
        "    RightBrickMark =    plt.Circle((69,18.5),0.61,color=\"black\")\n",
        "\n",
        "    element = [Pitch, LeftTouchDown, RightTouchDown, #midline, \n",
        "               LeftBrickMark, RightBrickMark]\n",
        "    for i in element:\n",
        "        ax.add_patch(i)"
      ]
    },
    {
      "cell_type": "code",
      "source": [
        "#@title\n",
        "def draw_team_attack_vertical_stack_flick_only_band(ax):\n",
        "  handler_xy=(30,9)\n",
        "  Ninja_handler =  CirclePolygon(handler_xy, 1.5, hatch =\"*\", color='blue')\n",
        "  disc_back=(handler_xy[0] + 2, handler_xy[1] + 2)\n",
        "  disc_flick=(handler_xy[0] + 2, handler_xy[1] - 2)\n",
        "  Disc =  Circle(disc_flick, 1, color=\"green\")\n",
        "  ninja_1_xy=(handler_xy[0] +5 , handler_xy[1] + 15)\n",
        "  Ninja_1 =  CirclePolygon(ninja_1_xy, 1.5, hatch =\"*\", color='blue')\n",
        "\n",
        "  cutter_1_xy=(handler_xy[0] + 15 , 18.5)\n",
        "  Cutter_1 =  CirclePolygon(cutter_1_xy, 1.5, hatch =\"*\", color='blue')\n",
        "  cutter_2_xy=(handler_xy[0] + 21 , 18.5)\n",
        "  Cutter_2 =  CirclePolygon(cutter_2_xy, 1.5, hatch =\"*\", color='blue')\n",
        "  cutter_3_xy=(handler_xy[0] + 27 , 18.5)\n",
        "  Cutter_3 =  CirclePolygon(cutter_3_xy, 1.5, hatch =\"*\", color='blue')\n",
        "  \n",
        "  element = [Ninja_handler, Disc, Ninja_1, Cutter_1, Cutter_2, Cutter_3]\n",
        "  for i in element:\n",
        "      ax.add_patch(i)\n",
        "\n",
        "def draw_team_defense_vertical_stack_flick_only_band(ax):\n",
        "  defend_handler_xy=(33,12)\n",
        "  Defense_handler =  CirclePolygon(defend_handler_xy, 1.5, hatch =\"\", color='red')\n",
        "  defend_ninja_1_xy=(defend_handler_xy[0] - 1 , defend_handler_xy[1] + 8)\n",
        "  Defense_Ninja_1 =  CirclePolygon(defend_ninja_1_xy, 1.5, hatch =\"*\", color='red')\n",
        "\n",
        "  defend_cutter_1_xy=(defend_handler_xy[0] + 10 , 14.5)\n",
        "  Defense_Cutter_1 =  CirclePolygon(defend_cutter_1_xy, 1.5, hatch =\"*\", color='red')\n",
        "  defend_cutter_2_xy=(defend_handler_xy[0] + 18 , 14.5)\n",
        "  Defense_Cutter_2 =  CirclePolygon(defend_cutter_2_xy, 1.5, hatch =\"*\", color='red')\n",
        "  defend_cutter_3_xy=(defend_handler_xy[0] + 25 , 14.5)\n",
        "  Defense_Cutter_3 =  CirclePolygon(defend_cutter_3_xy, 1.5, hatch =\"*\", color='red')\n",
        "  \n",
        "  element = [Defense_handler, Defense_Ninja_1, \n",
        "             Defense_Cutter_1, Defense_Cutter_2, Defense_Cutter_3]\n",
        "  for i in element:\n",
        "      ax.add_patch(i)\n",
        "\n",
        "\n",
        "def draw_moves_vertical_stack_flick_only_band(ax):\n",
        "    handler_xy=(30,9)\n",
        "\n",
        "    cutter_1_xy=(handler_xy[0] + 15 , 18.5)\n",
        "    cutter_2_xy=(handler_xy[0] + 21 , 18.5)\n",
        "    cutter_3_xy=(handler_xy[0] + 27 , 18.5)\n",
        "\n",
        "    cut_1_go = (cutter_1_xy[0] + 6, cutter_1_xy[1] - 14)\n",
        "    cut_1_come = (cutter_1_xy[0] - 15, cutter_1_xy[1] - 14)\n",
        "    cut_2_go = (cutter_2_xy[0] - 2 , cutter_2_xy[1] + 8)\n",
        "    cut_2_come = (cutter_2_xy[0] + 11, cutter_2_xy[1] - 11 )\n",
        "    cut_3_go = (cutter_3_xy[0] - 6, cutter_3_xy[1] - 14)\n",
        "    cut_3_come = (cutter_3_xy[0] + 15, cutter_3_xy[1] - 14)\n",
        "\n",
        "    cuts = { 'cutter_1_xy': {\n",
        "              'color': 'blue',\n",
        "              'moves': [cut_1_go, cut_1_come] },\n",
        "            'cutter_2_xy': {\n",
        "                'color': 'red',\n",
        "                'moves': [cut_2_go, cut_2_come]} ,\n",
        "            'cutter_3_xy': {\n",
        "                'color': 'green',\n",
        "                'moves': [cut_3_go, cut_3_come]} \n",
        "            }\n",
        "\n",
        "    print(cuts.keys)\n",
        "    for cutter, props in cuts.items():\n",
        "      print(str(cutter))\n",
        "      ax.annotate(\"\", xy = props['moves'][0], \n",
        "               xytext = locals()[str(cutter)], \n",
        "               arrowprops=dict(arrowstyle=\"->\",connectionstyle=\"arc3\", color = props['color']),)\n",
        "      ax.annotate(\"\", xy = props['moves'][1], \n",
        "               xytext = props['moves'][0], \n",
        "               arrowprops=dict(arrowstyle=\"->\",connectionstyle=\"arc3\", color = props['color']),)\n",
        "      \n",
        "\n",
        "def draw_moves_vertical_stack_flick_only_band(ax):\n",
        "    handler_xy=(30,9)\n",
        "\n",
        "    cutter_1_xy=(handler_xy[0] + 15 , 18.5)\n",
        "    cutter_2_xy=(handler_xy[0] + 21 , 18.5)\n",
        "    cutter_3_xy=(handler_xy[0] + 27 , 18.5)\n",
        "\n",
        "    cut_1_go = (cutter_1_xy[0] + 6, cutter_1_xy[1] - 14)\n",
        "    cut_1_come = (cutter_1_xy[0] - 15, cutter_1_xy[1] - 14)\n",
        "    cut_2_go = (cutter_2_xy[0] - 2 , cutter_2_xy[1] + 8)\n",
        "    cut_2_come = (cutter_2_xy[0] + 11, cutter_2_xy[1] - 11 )\n",
        "    cut_3_go = (cutter_3_xy[0] - 6, cutter_3_xy[1] - 14)\n",
        "    cut_3_come = (cutter_3_xy[0] + 15, cutter_3_xy[1] - 14)\n",
        "\n",
        "    cuts = { 'cutter_1_xy': {\n",
        "              'color': 'blue',\n",
        "              'moves': [cut_1_go, cut_1_come] },\n",
        "            'cutter_2_xy': {\n",
        "                'color': 'red',\n",
        "                'moves': [cut_2_go, cut_2_come]} ,\n",
        "            'cutter_3_xy': {\n",
        "                'color': 'green',\n",
        "                'moves': [cut_3_go, cut_3_come]} \n",
        "            }\n",
        "\n",
        "    print(cuts.keys)\n",
        "    for cutter, props in cuts.items():\n",
        "      print(str(cutter))\n",
        "      ax.annotate(\"\", xy = props['moves'][0], \n",
        "               xytext = locals()[str(cutter)], \n",
        "               arrowprops=dict(arrowstyle=\"->\",connectionstyle=\"arc3\", color = props['color']),)\n",
        "      ax.annotate(\"\", xy = props['moves'][1], \n",
        "               xytext = props['moves'][0], \n",
        "               arrowprops=dict(arrowstyle=\"->\",connectionstyle=\"arc3\", color = props['color']),)\n",
        "      \n"
      ],
      "metadata": {
        "id": "WFjZLpCcJ7f-"
      },
      "execution_count": 2,
      "outputs": []
    },
    {
      "cell_type": "code",
      "source": [
        "#@title\n",
        "\n",
        "fig=plt.figure() #set up the figures\n",
        "fig.set_size_inches(12, 4)\n",
        "ax=fig.add_subplot(1,1,1)\n",
        "\n",
        "draw_pitch(ax) #overlay our different objects on the pitch\n",
        "draw_team_attack_vertical_stack_flick_only_band(ax)\n",
        "draw_team_defense_vertical_stack_flick_only_band(ax)\n",
        "draw_moves_vertical_stack_flick_only_band(ax)\n",
        "\n",
        "plt.ylim(-2, 40)\n",
        "plt.xlim(-2, 114)\n",
        "\n",
        "\n",
        "\n",
        "plt.axis('off')\n",
        "plt.show()"
      ],
      "metadata": {
        "colab": {
          "base_uri": "https://localhost:8080/",
          "height": 317
        },
        "id": "bafqCIlhKCFK",
        "outputId": "5cf85d36-bf25-4005-dd35-1bd958dcd5e0"
      },
      "execution_count": 3,
      "outputs": [
        {
          "output_type": "stream",
          "name": "stdout",
          "text": [
            "<built-in method keys of dict object at 0x7f1c02bef6e0>\n",
            "cutter_1_xy\n",
            "cutter_2_xy\n",
            "cutter_3_xy\n"
          ]
        },
        {
          "output_type": "display_data",
          "data": {
            "image/png": "[encoded data removed]",
            "text/plain": [
              "<Figure size 864x288 with 1 Axes>"
            ]
          },
          "metadata": {
            "needs_background": "light"
          }
        }
      ]
    },
    {
      "cell_type": "code",
      "source": [
        "#@title\n",
        "def draw_team_attack_vertical_stack_flick_only_center(ax):\n",
        "  handler_xy=(30,25)\n",
        "  Ninja_handler =  CirclePolygon(handler_xy, 1.5, hatch =\"*\", color='blue')\n",
        "  disc_back=(handler_xy[0] + 2, handler_xy[1] + 2)\n",
        "  disc_flick=(handler_xy[0] + 2, handler_xy[1] - 2)\n",
        "  Disc =  Circle(disc_flick, 1, color=\"green\")\n",
        "  ninja_1_xy=(handler_xy[0] +5 , handler_xy[1] - 15)\n",
        "  Ninja_1 =  CirclePolygon(ninja_1_xy, 1.5, hatch =\"*\", color='blue')\n",
        "\n",
        "  cutter_1_xy=(handler_xy[0] + 15 , 18.5)\n",
        "  Cutter_1 =  CirclePolygon(cutter_1_xy, 1.5, hatch =\"*\", color='blue')\n",
        "  cutter_2_xy=(handler_xy[0] + 21 , 18.5)\n",
        "  Cutter_2 =  CirclePolygon(cutter_2_xy, 1.5, hatch =\"*\", color='blue')\n",
        "  cutter_3_xy=(handler_xy[0] + 27 , 18.5)\n",
        "  Cutter_3 =  CirclePolygon(cutter_3_xy, 1.5, hatch =\"*\", color='blue')\n",
        "  \n",
        "  element = [Ninja_handler, Disc, Ninja_1, Cutter_1, Cutter_2, Cutter_3]\n",
        "  for i in element:\n",
        "      ax.add_patch(i)\n",
        "\n",
        "def draw_team_defense_vertical_stack_flick_only_center(ax):\n",
        "  defend_handler_xy=(33,29)\n",
        "  Defense_handler =  CirclePolygon(defend_handler_xy, 1.5, hatch =\"\", color='red')\n",
        "  defend_ninja_1_xy=(defend_handler_xy[0] + 1 , defend_handler_xy[1] - 15)\n",
        "  Defense_Ninja_1 =  CirclePolygon(defend_ninja_1_xy, 1.5, hatch =\"*\", color='red')\n",
        "\n",
        "  defend_cutter_1_xy=(defend_handler_xy[0] + 10 , 22.5)\n",
        "  Defense_Cutter_1 =  CirclePolygon(defend_cutter_1_xy, 1.5, hatch =\"*\", color='red')\n",
        "  defend_cutter_2_xy=(defend_handler_xy[0] + 18 , 22.5)\n",
        "  Defense_Cutter_2 =  CirclePolygon(defend_cutter_2_xy, 1.5, hatch =\"*\", color='red')\n",
        "  defend_cutter_3_xy=(defend_handler_xy[0] + 25 , 22.5)\n",
        "  Defense_Cutter_3 =  CirclePolygon(defend_cutter_3_xy, 1.5, hatch =\"*\", color='red')\n",
        "  \n",
        "  element = [Defense_handler, Defense_Ninja_1, \n",
        "             Defense_Cutter_1, Defense_Cutter_2, Defense_Cutter_3]\n",
        "  for i in element:\n",
        "      ax.add_patch(i)\n",
        "\n",
        "\n",
        "def draw_moves_vertical_stack_flick_only_center(ax):\n",
        "    handler_xy=(30,9)\n",
        "\n",
        "    cutter_1_xy=(handler_xy[0] + 15 , 18.5)\n",
        "    cutter_2_xy=(handler_xy[0] + 21 , 18.5)\n",
        "    cutter_3_xy=(handler_xy[0] + 27 , 18.5)\n",
        "\n",
        "    cut_1_go = (cutter_1_xy[0] + 6, cutter_1_xy[1] - 7)\n",
        "    cut_1_come = (cutter_1_xy[0] - 14, cutter_1_xy[1] )\n",
        "    cut_2_go = (cutter_2_xy[0] - 6 , cutter_2_xy[1] + 4)\n",
        "    cut_2_come = (cutter_2_xy[0] + 15, cutter_2_xy[1] - 14 )\n",
        "    cut_3_go = (cutter_3_xy[0] + 9, cutter_3_xy[1] + 3)\n",
        "    cut_3_come = (cutter_3_xy[0] - 9, cutter_3_xy[1] - 12)\n",
        "\n",
        "    cuts = { 'cutter_1_xy': {\n",
        "              'color': 'blue',\n",
        "              'moves': [cut_1_go, cut_1_come] },\n",
        "            'cutter_2_xy': {\n",
        "                'color': 'red',\n",
        "                'moves': [cut_2_go, cut_2_come]} ,\n",
        "            'cutter_3_xy': {\n",
        "                'color': 'green',\n",
        "                'moves': [cut_3_go, cut_3_come]} \n",
        "            }\n",
        "\n",
        "    print(cuts.keys)\n",
        "    for cutter, props in cuts.items():\n",
        "      print(str(cutter))\n",
        "      ax.annotate(\"\", xy = props['moves'][0], \n",
        "               xytext = locals()[str(cutter)], \n",
        "               arrowprops=dict(arrowstyle=\"->\",connectionstyle=\"arc3\", color = props['color']),)\n",
        "      ax.annotate(\"\", xy = props['moves'][1], \n",
        "               xytext = props['moves'][0], \n",
        "               arrowprops=dict(arrowstyle=\"->\",connectionstyle=\"arc3\", color = props['color']),)\n",
        "      \n"
      ],
      "metadata": {
        "id": "cTJyDFQvvHNx"
      },
      "execution_count": 4,
      "outputs": []
    },
    {
      "cell_type": "code",
      "source": [
        "#@title\n",
        "fig=plt.figure() #set up the figures\n",
        "fig.set_size_inches(12, 4)\n",
        "ax=fig.add_subplot(1,1,1)\n",
        "\n",
        "draw_pitch(ax) #overlay our different objects on the pitch\n",
        "draw_team_attack_vertical_stack_flick_only_center(ax)\n",
        "draw_team_defense_vertical_stack_flick_only_center(ax)\n",
        "draw_moves_vertical_stack_flick_only_center(ax)\n",
        "\n",
        "plt.ylim(-2, 40)\n",
        "plt.xlim(-2, 114)\n",
        "\n",
        "\n",
        "\n",
        "plt.axis('off')\n",
        "plt.show()"
      ],
      "metadata": {
        "colab": {
          "base_uri": "https://localhost:8080/",
          "height": 317
        },
        "id": "Y7obcCUBvaT5",
        "outputId": "a48e7d6a-c680-4668-e840-612b36d26eec"
      },
      "execution_count": 5,
      "outputs": [
        {
          "output_type": "stream",
          "name": "stdout",
          "text": [
            "<built-in method keys of dict object at 0x7f1c026dd870>\n",
            "cutter_1_xy\n",
            "cutter_2_xy\n",
            "cutter_3_xy\n"
          ]
        },
        {
          "output_type": "display_data",
          "data": {
            "image/png": "[encoded data removed]",
            "text/plain": [
              "<Figure size 864x288 with 1 Axes>"
            ]
          },
          "metadata": {
            "needs_background": "light"
          }
        }
      ]
    },
    {
      "cell_type": "code",
      "source": [
        "#@title\n",
        "def draw_team_attack_vertical_stack_back_only_center(ax):\n",
        "  handler_xy=(30,9)\n",
        "  Ninja_handler =  CirclePolygon(handler_xy, 1.5, hatch =\"*\", color='blue')\n",
        "  disc_back=(handler_xy[0] + 2, handler_xy[1] + 2)\n",
        "  disc_flick=(handler_xy[0] + 2, handler_xy[1] - 2)\n",
        "  Disc =  Circle(disc_back, 1, color=\"green\")\n",
        "  ninja_1_xy=(handler_xy[0] +5 , handler_xy[1] + 15)\n",
        "  Ninja_1 =  CirclePolygon(ninja_1_xy, 1.5, hatch =\"*\", color='blue')\n",
        "\n",
        "  cutter_1_xy=(handler_xy[0] + 15 , 18.5)\n",
        "  Cutter_1 =  CirclePolygon(cutter_1_xy, 1.5, hatch =\"*\", color='blue')\n",
        "  cutter_2_xy=(handler_xy[0] + 21 , 18.5)\n",
        "  Cutter_2 =  CirclePolygon(cutter_2_xy, 1.5, hatch =\"*\", color='blue')\n",
        "  cutter_3_xy=(handler_xy[0] + 27 , 18.5)\n",
        "  Cutter_3 =  CirclePolygon(cutter_3_xy, 1.5, hatch =\"*\", color='blue')\n",
        "  \n",
        "  element = [Ninja_handler, Disc, Ninja_1, Cutter_1, Cutter_2, Cutter_3]\n",
        "  for i in element:\n",
        "      ax.add_patch(i)\n",
        "      \n",
        "def draw_team_defense_vertical_stack_back_only_center(ax):\n",
        "  defend_handler_xy=(33,7)\n",
        "  Defense_handler =  CirclePolygon(defend_handler_xy, 1.5, hatch =\"\", color='red')\n",
        "  defend_ninja_1_xy=(defend_handler_xy[0] - 1 , defend_handler_xy[1] + 13)\n",
        "  Defense_Ninja_1 =  CirclePolygon(defend_ninja_1_xy, 1.5, hatch =\"*\", color='red')\n",
        "\n",
        "  defend_cutter_1_xy=(defend_handler_xy[0] + 10 , 14.5)\n",
        "  Defense_Cutter_1 =  CirclePolygon(defend_cutter_1_xy, 1.5, hatch =\"*\", color='red')\n",
        "  defend_cutter_2_xy=(defend_handler_xy[0] + 18 , 14.5)\n",
        "  Defense_Cutter_2 =  CirclePolygon(defend_cutter_2_xy, 1.5, hatch =\"*\", color='red')\n",
        "  defend_cutter_3_xy=(defend_handler_xy[0] + 25 , 14.5)\n",
        "  Defense_Cutter_3 =  CirclePolygon(defend_cutter_3_xy, 1.5, hatch =\"*\", color='red')\n",
        "  \n",
        "  element = [Defense_handler, Defense_Ninja_1, \n",
        "             Defense_Cutter_1, Defense_Cutter_2, Defense_Cutter_3]\n",
        "  for i in element:\n",
        "      ax.add_patch(i)\n",
        "\n",
        "def draw_moves_vertical_stack_back_only_center(ax):\n",
        "    handler_xy=(30,9)\n",
        "\n",
        "    cutter_1_xy=(handler_xy[0] + 15 , 18.5)\n",
        "    cutter_2_xy=(handler_xy[0] + 21 , 18.5)\n",
        "    cutter_3_xy=(handler_xy[0] + 27 , 18.5)\n",
        "\n",
        "    cut_1_go = (cutter_1_xy[0] + 3, cutter_1_xy[1] - 7)\n",
        "    cut_1_come = (cutter_1_xy[0] + 14, cutter_1_xy[1] + 14 )\n",
        "    cut_2_go = (cutter_2_xy[0] + 5, cutter_2_xy[1] - 14)\n",
        "    cut_2_come = (cutter_2_xy[0] - 15, cutter_2_xy[1])\n",
        "    cut_3_go = (cutter_3_xy[0] - 6, cutter_3_xy[1] - 7)\n",
        "    cut_3_come = (cutter_3_xy[0] + 6 , cutter_3_xy[1] + 14)\n",
        "\n",
        "    cuts = { 'cutter_1_xy': {\n",
        "              'color': 'blue',\n",
        "              'moves': [cut_1_go, cut_1_come] },\n",
        "            'cutter_2_xy': {\n",
        "                'color': 'red',\n",
        "                'moves': [cut_2_go, cut_2_come]} ,\n",
        "            'cutter_3_xy': {\n",
        "                'color': 'green',\n",
        "                'moves': [cut_3_go, cut_3_come]} \n",
        "            }\n",
        "\n",
        "    print(cuts.keys)\n",
        "    for cutter, props in cuts.items():\n",
        "      print(str(cutter))\n",
        "      ax.annotate(\"\", xy = props['moves'][0], \n",
        "               xytext = locals()[str(cutter)], \n",
        "               arrowprops=dict(arrowstyle=\"->\",connectionstyle=\"arc3\", color = props['color']),)\n",
        "      ax.annotate(\"\", xy = props['moves'][1], \n",
        "               xytext = props['moves'][0], \n",
        "               arrowprops=dict(arrowstyle=\"->\",connectionstyle=\"arc3\", color = props['color']),)"
      ],
      "metadata": {
        "id": "yjuyr8GCVSkG"
      },
      "execution_count": 6,
      "outputs": []
    },
    {
      "cell_type": "code",
      "source": [
        "#@title\n",
        "fig=plt.figure() #set up the figures\n",
        "fig.set_size_inches(12, 4)\n",
        "ax=fig.add_subplot(1,1,1)\n",
        "\n",
        "draw_pitch(ax) #overlay our different objects on the pitch\n",
        "draw_team_attack_vertical_stack_back_only_center(ax)\n",
        "draw_team_defense_vertical_stack_back_only_center(ax)\n",
        "draw_moves_vertical_stack_back_only_center(ax)\n",
        "\n",
        "plt.ylim(-2, 40)\n",
        "plt.xlim(-2, 114)\n",
        "\n",
        "\n",
        "\n",
        "plt.axis('off')\n",
        "plt.show() "
      ],
      "metadata": {
        "colab": {
          "base_uri": "https://localhost:8080/",
          "height": 317
        },
        "id": "7yG5LuFcjets",
        "outputId": "fb4817d2-f36c-49df-b730-20df885f16c6"
      },
      "execution_count": 7,
      "outputs": [
        {
          "output_type": "stream",
          "name": "stdout",
          "text": [
            "<built-in method keys of dict object at 0x7f1c0266ce60>\n",
            "cutter_1_xy\n",
            "cutter_2_xy\n",
            "cutter_3_xy\n"
          ]
        },
        {
          "output_type": "display_data",
          "data": {
            "image/png": "[encoded data removed]",
            "text/plain": [
              "<Figure size 864x288 with 1 Axes>"
            ]
          },
          "metadata": {
            "needs_background": "light"
          }
        }
      ]
    },
    {
      "cell_type": "code",
      "source": [
        "#@title\n",
        "def draw_team_attack_vertical_stack_back_only_band(ax):\n",
        "  handler_xy=(30,25)\n",
        "  Ninja_handler =  CirclePolygon(handler_xy, 1.5, hatch =\"*\", color='blue')\n",
        "  disc_back=(handler_xy[0] + 2, handler_xy[1] + 2)\n",
        "  disc_flick=(handler_xy[0] + 2, handler_xy[1] - 2)\n",
        "  Disc =  Circle(disc_back, 1, color=\"green\")\n",
        "  ninja_1_xy=(handler_xy[0] +5 , handler_xy[1] - 15)\n",
        "  Ninja_1 =  CirclePolygon(ninja_1_xy, 1.5, hatch =\"*\", color='blue')\n",
        "\n",
        "  cutter_1_xy=(handler_xy[0] + 15 , 18.5)\n",
        "  Cutter_1 =  CirclePolygon(cutter_1_xy, 1.5, hatch =\"*\", color='blue')\n",
        "  cutter_2_xy=(handler_xy[0] + 21 , 18.5)\n",
        "  Cutter_2 =  CirclePolygon(cutter_2_xy, 1.5, hatch =\"*\", color='blue')\n",
        "  cutter_3_xy=(handler_xy[0] + 27 , 18.5)\n",
        "  Cutter_3 =  CirclePolygon(cutter_3_xy, 1.5, hatch =\"*\", color='blue')\n",
        "  \n",
        "  element = [Ninja_handler, Disc, Ninja_1, Cutter_1, Cutter_2, Cutter_3]\n",
        "  for i in element:\n",
        "      ax.add_patch(i)\n",
        "\n",
        "def draw_team_defense_vertical_stack_back_only_band(ax):\n",
        "  defend_handler_xy=(33,21)\n",
        "  Defense_handler =  CirclePolygon(defend_handler_xy, 1.5, hatch =\"\", color='red')\n",
        "  defend_ninja_1_xy=(defend_handler_xy[0] + 1 , defend_handler_xy[1] - 7)\n",
        "  Defense_Ninja_1 =  CirclePolygon(defend_ninja_1_xy, 1.5, hatch =\"*\", color='red')\n",
        "\n",
        "  defend_cutter_1_xy=(defend_handler_xy[0] + 10 , 22.5)\n",
        "  Defense_Cutter_1 =  CirclePolygon(defend_cutter_1_xy, 1.5, hatch =\"*\", color='red')\n",
        "  defend_cutter_2_xy=(defend_handler_xy[0] + 18 , 22.5)\n",
        "  Defense_Cutter_2 =  CirclePolygon(defend_cutter_2_xy, 1.5, hatch =\"*\", color='red')\n",
        "  defend_cutter_3_xy=(defend_handler_xy[0] + 25 , 22.5)\n",
        "  Defense_Cutter_3 =  CirclePolygon(defend_cutter_3_xy, 1.5, hatch =\"*\", color='red')\n",
        "  \n",
        "  element = [Defense_handler, Defense_Ninja_1, \n",
        "             Defense_Cutter_1, Defense_Cutter_2, Defense_Cutter_3]\n",
        "  for i in element:\n",
        "      ax.add_patch(i)\n",
        "\n",
        "\n",
        "def draw_moves_vertical_stack_back_only_band(ax):\n",
        "    handler_xy=(30,9)\n",
        "\n",
        "    cutter_1_xy=(handler_xy[0] + 15 , 18.5)\n",
        "    cutter_2_xy=(handler_xy[0] + 21 , 18.5)\n",
        "    cutter_3_xy=(handler_xy[0] + 27 , 18.5)\n",
        "\n",
        "    cut_1_go = (cutter_1_xy[0] - 3, cutter_1_xy[1] - 7)\n",
        "    cut_1_come = (cutter_1_xy[0] + 17, cutter_1_xy[1] + 14)\n",
        "    cut_2_go = (cutter_2_xy[0] + 6 , cutter_2_xy[1] - 4)\n",
        "    cut_2_come = (cutter_2_xy[0] - 15, cutter_2_xy[1] + 14 )\n",
        "    cut_3_go = (cutter_3_xy[0] + 9, cutter_3_xy[1] - 3)\n",
        "    cut_3_come = (cutter_3_xy[0] - 9, cutter_3_xy[1] + 12)\n",
        "\n",
        "    cuts = { 'cutter_1_xy': {\n",
        "              'color': 'blue',\n",
        "              'moves': [cut_1_go, cut_1_come] },\n",
        "            'cutter_2_xy': {\n",
        "                'color': 'red',\n",
        "                'moves': [cut_2_go, cut_2_come]} ,\n",
        "            'cutter_3_xy': {\n",
        "                'color': 'green',\n",
        "                'moves': [cut_3_go, cut_3_come]} \n",
        "            }\n",
        "\n",
        "    print(cuts.keys)\n",
        "    for cutter, props in cuts.items():\n",
        "      print(str(cutter))\n",
        "      ax.annotate(\"\", xy = props['moves'][0], \n",
        "               xytext = locals()[str(cutter)], \n",
        "               arrowprops=dict(arrowstyle=\"->\",connectionstyle=\"arc3\", color = props['color']),)\n",
        "      ax.annotate(\"\", xy = props['moves'][1], \n",
        "               xytext = props['moves'][0], \n",
        "               arrowprops=dict(arrowstyle=\"->\",connectionstyle=\"arc3\", color = props['color']),)\n",
        "      \n"
      ],
      "metadata": {
        "id": "eeCwTyPhRofE"
      },
      "execution_count": 8,
      "outputs": []
    },
    {
      "cell_type": "code",
      "source": [
        "#@title\n",
        "fig=plt.figure() #set up the figures\n",
        "fig.set_size_inches(12, 4)\n",
        "ax=fig.add_subplot(1,1,1)\n",
        "\n",
        "draw_pitch(ax) #overlay our different objects on the pitch\n",
        "draw_team_attack_vertical_stack_back_only_band(ax)\n",
        "draw_team_defense_vertical_stack_back_only_band(ax)\n",
        "draw_moves_vertical_stack_back_only_band(ax)\n",
        "\n",
        "plt.ylim(-2, 40)\n",
        "plt.xlim(-2, 114)\n",
        "\n",
        "\n",
        "\n",
        "plt.axis('off')\n",
        "plt.show() "
      ],
      "metadata": {
        "colab": {
          "base_uri": "https://localhost:8080/",
          "height": 317
        },
        "id": "u7YzIjQLRotx",
        "outputId": "1838d60d-b8bc-4bfd-cd85-db0cc297c957"
      },
      "execution_count": 9,
      "outputs": [
        {
          "output_type": "stream",
          "name": "stdout",
          "text": [
            "<built-in method keys of dict object at 0x7f1c025fa0f0>\n",
            "cutter_1_xy\n",
            "cutter_2_xy\n",
            "cutter_3_xy\n"
          ]
        },
        {
          "output_type": "display_data",
          "data": {
            "image/png": "[encoded data removed]",
            "text/plain": [
              "<Figure size 864x288 with 1 Axes>"
            ]
          },
          "metadata": {
            "needs_background": "light"
          }
        }
      ]
    },
    {
      "cell_type": "code",
      "source": [
        "#@title\n",
        "def draw_team_attack_horizontal_stack_flick_only_band(ax):\n",
        "  handler_xy=(30,9)\n",
        "  Ninja_handler =  CirclePolygon(handler_xy, 1.5, hatch =\"*\", color='blue')\n",
        "  disc_back=(handler_xy[0] + 2, handler_xy[1] + 2)\n",
        "  disc_flick=(handler_xy[0] + 2, handler_xy[1] - 2)\n",
        "  Disc =  Circle(disc_flick, 1, color=\"green\")\n",
        "  ninja_1_xy=(handler_xy[0] +5 , handler_xy[1] + 15)\n",
        "  Ninja_1 =  CirclePolygon(ninja_1_xy, 1.5, hatch =\"*\", color='blue')\n",
        "\n",
        "  cutter_1_xy=(handler_xy[0] + 21 , 26.5)\n",
        "  Cutter_1 =  CirclePolygon(cutter_1_xy, 1.5, hatch =\"*\", color='blue')\n",
        "  cutter_2_xy=(handler_xy[0] + 21 , 18.5)\n",
        "  Cutter_2 =  CirclePolygon(cutter_2_xy, 1.5, hatch =\"*\", color='blue')\n",
        "  cutter_3_xy=(handler_xy[0] + 21 , 10.5)\n",
        "  Cutter_3 =  CirclePolygon(cutter_3_xy, 1.5, hatch =\"*\", color='blue')\n",
        "  \n",
        "  element = [Ninja_handler, Disc, Ninja_1, Cutter_1, Cutter_2, Cutter_3]\n",
        "  for i in element:\n",
        "      ax.add_patch(i)\n",
        "      \n",
        "def draw_team_defense_horizontal_stack_flick_only_band(ax):\n",
        "  defend_handler_xy=(33,12)\n",
        "  Defense_handler =  CirclePolygon(defend_handler_xy, 1.5, hatch =\"\", color='red')\n",
        "  defend_ninja_1_xy=(defend_handler_xy[0] - 1 , defend_handler_xy[1] + 9)\n",
        "  Defense_Ninja_1 =  CirclePolygon(defend_ninja_1_xy, 1.5, hatch =\"*\", color='red')\n",
        "\n",
        "  defend_cutter_1_xy=(defend_handler_xy[0] + 15 , 23.5)\n",
        "  Defense_Cutter_1 =  CirclePolygon(defend_cutter_1_xy, 1.5, hatch =\"*\", color='red')\n",
        "  defend_cutter_2_xy=(defend_handler_xy[0] + 15 , 15.5)\n",
        "  Defense_Cutter_2 =  CirclePolygon(defend_cutter_2_xy, 1.5, hatch =\"*\", color='red')\n",
        "  defend_cutter_3_xy=(defend_handler_xy[0] + 15 , 8.5)\n",
        "  Defense_Cutter_3 =  CirclePolygon(defend_cutter_3_xy, 1.5, hatch =\"*\", color='red')\n",
        "  \n",
        "  element = [Defense_handler, Defense_Ninja_1, \n",
        "             Defense_Cutter_1, Defense_Cutter_2, Defense_Cutter_3]\n",
        "  for i in element:\n",
        "      ax.add_patch(i)\n",
        "\n",
        "def draw_moves_horizontal_stack_flick_only_band(ax):\n",
        "    handler_xy=(30,9)\n",
        "\n",
        "    cutter_1_xy=(handler_xy[0] + 21 , 26.5)\n",
        "    cutter_2_xy=(handler_xy[0] + 21 , 18.5)\n",
        "    cutter_3_xy=(handler_xy[0] + 21 , 10.5)\n",
        "\n",
        "    cut_1_go = (cutter_1_xy[0] - 7, cutter_1_xy[1] + 3 )\n",
        "    cut_1_come = (cutter_1_xy[0] + 15, cutter_1_xy[1] - 12 )\n",
        "    cut_2_go = (cutter_2_xy[0] + 6, cutter_2_xy[1] + 6)\n",
        "    cut_2_come = (cutter_2_xy[0] - 15, cutter_2_xy[1] - 9)\n",
        "    cut_3_go = (cutter_3_xy[0] - 7, cutter_3_xy[1] + 7)\n",
        "    cut_3_come = (cutter_3_xy[0] + 14 , cutter_3_xy[1] - 7)\n",
        "\n",
        "    cuts = { 'cutter_1_xy': {\n",
        "              'color': 'blue',\n",
        "              'moves': [cut_1_go, cut_1_come] },\n",
        "            'cutter_2_xy': {\n",
        "                'color': 'red',\n",
        "                'moves': [cut_2_go, cut_2_come]} ,\n",
        "            'cutter_3_xy': {\n",
        "                'color': 'green',\n",
        "                'moves': [cut_3_go, cut_3_come]} \n",
        "            }\n",
        "\n",
        "    print(cuts.keys)\n",
        "    for cutter, props in cuts.items():\n",
        "      print(str(cutter))\n",
        "      ax.annotate(\"\", xy = props['moves'][0], \n",
        "               xytext = locals()[str(cutter)], \n",
        "               arrowprops=dict(arrowstyle=\"->\",connectionstyle=\"arc3\", color = props['color']),)\n",
        "      ax.annotate(\"\", xy = props['moves'][1], \n",
        "               xytext = props['moves'][0], \n",
        "               arrowprops=dict(arrowstyle=\"->\",connectionstyle=\"arc3\", color = props['color']),)"
      ],
      "metadata": {
        "id": "GcjtzHYZUPPE"
      },
      "execution_count": 10,
      "outputs": []
    },
    {
      "cell_type": "code",
      "source": [
        "#@title\n",
        "fig=plt.figure() #set up the figures\n",
        "fig.set_size_inches(12, 4)\n",
        "ax=fig.add_subplot(1,1,1)\n",
        "\n",
        "draw_pitch(ax) #overlay our different objects on the pitch\n",
        "draw_team_attack_horizontal_stack_flick_only_band(ax)\n",
        "draw_team_defense_horizontal_stack_flick_only_band(ax)\n",
        "draw_moves_horizontal_stack_flick_only_band(ax)\n",
        "\n",
        "plt.ylim(-2, 40)\n",
        "plt.xlim(-2, 114)\n",
        "\n",
        "\n",
        "\n",
        "plt.axis('off')\n",
        "plt.show() "
      ],
      "metadata": {
        "colab": {
          "base_uri": "https://localhost:8080/",
          "height": 317
        },
        "id": "4LIpPeLpk33-",
        "outputId": "6b4fe763-f9a2-4e76-d120-4d58f306a955"
      },
      "execution_count": 11,
      "outputs": [
        {
          "output_type": "stream",
          "name": "stdout",
          "text": [
            "<built-in method keys of dict object at 0x7f1c02588eb0>\n",
            "cutter_1_xy\n",
            "cutter_2_xy\n",
            "cutter_3_xy\n"
          ]
        },
        {
          "output_type": "display_data",
          "data": {
            "image/png": "[encoded data removed]",
            "text/plain": [
              "<Figure size 864x288 with 1 Axes>"
            ]
          },
          "metadata": {
            "needs_background": "light"
          }
        }
      ]
    },
    {
      "cell_type": "code",
      "source": [
        "#@title\n",
        "def draw_team_attack_horizontal_stack_flick_only_center(ax):\n",
        "  handler_xy=(30,25)\n",
        "  Ninja_handler =  CirclePolygon(handler_xy, 1.5, hatch =\"*\", color='blue')\n",
        "  disc_back=(handler_xy[0] + 2, handler_xy[1] + 2)\n",
        "  disc_flick=(handler_xy[0] + 2, handler_xy[1] - 2)\n",
        "  Disc =  Circle(disc_flick, 1, color=\"green\")\n",
        "  ninja_1_xy=(handler_xy[0] +5 , handler_xy[1] - 15)\n",
        "  Ninja_1 =  CirclePolygon(ninja_1_xy, 1.5, hatch =\"*\", color='blue')\n",
        "\n",
        "  cutter_1_xy=(handler_xy[0] + 21 , 26.5)\n",
        "  Cutter_1 =  CirclePolygon(cutter_1_xy, 1.5, hatch =\"*\", color='blue')\n",
        "  cutter_2_xy=(handler_xy[0] + 21 , 18.5)\n",
        "  Cutter_2 =  CirclePolygon(cutter_2_xy, 1.5, hatch =\"*\", color='blue')\n",
        "  cutter_3_xy=(handler_xy[0] + 21 , 10.5)\n",
        "  Cutter_3 =  CirclePolygon(cutter_3_xy, 1.5, hatch =\"*\", color='blue')\n",
        "  \n",
        "  element = [Ninja_handler, Disc, Ninja_1, Cutter_1, Cutter_2, Cutter_3]\n",
        "  for i in element:\n",
        "      ax.add_patch(i)\n",
        "      \n",
        "def draw_team_defense_horizontal_stack_flick_only_center(ax):\n",
        "  defend_handler_xy=(33,29)\n",
        "  Defense_handler =  CirclePolygon(defend_handler_xy, 1.5, hatch =\"\", color='red')\n",
        "  defend_ninja_1_xy=(defend_handler_xy[0] + 1 , defend_handler_xy[1] - 15)\n",
        "  Defense_Ninja_1 =  CirclePolygon(defend_ninja_1_xy, 1.5, hatch =\"*\", color='red')\n",
        "\n",
        "  defend_cutter_1_xy=(defend_handler_xy[0] + 15 , 23.5)\n",
        "  Defense_Cutter_1 =  CirclePolygon(defend_cutter_1_xy, 1.5, hatch =\"*\", color='red')\n",
        "  defend_cutter_2_xy=(defend_handler_xy[0] + 15 , 15.5)\n",
        "  Defense_Cutter_2 =  CirclePolygon(defend_cutter_2_xy, 1.5, hatch =\"*\", color='red')\n",
        "  defend_cutter_3_xy=(defend_handler_xy[0] + 15 , 8.5)\n",
        "  Defense_Cutter_3 =  CirclePolygon(defend_cutter_3_xy, 1.5, hatch =\"*\", color='red')\n",
        "  \n",
        "  element = [Defense_handler, Defense_Ninja_1, \n",
        "             Defense_Cutter_1, Defense_Cutter_2, Defense_Cutter_3]\n",
        "  for i in element:\n",
        "      ax.add_patch(i)\n",
        "\n",
        "def draw_moves_horizontal_stack_flick_only_center(ax):\n",
        "    handler_xy=(30,9)\n",
        "\n",
        "    cutter_1_xy=(handler_xy[0] + 21 , 26.5)\n",
        "    cutter_2_xy=(handler_xy[0] + 21 , 18.5)\n",
        "    cutter_3_xy=(handler_xy[0] + 21 , 10.5)\n",
        "\n",
        "    cut_1_go = (cutter_1_xy[0] - 12, cutter_1_xy[1] + 5 )\n",
        "    cut_1_come = (cutter_1_xy[0] + 12, cutter_1_xy[1] - 9 )\n",
        "    cut_2_go = (cutter_2_xy[0] - 6, cutter_2_xy[1] + 6)\n",
        "    cut_2_come = (cutter_2_xy[0] + 15, cutter_2_xy[1] - 6)\n",
        "    cut_3_go = (cutter_3_xy[0] + 7, cutter_3_xy[1] - 7)\n",
        "    cut_3_come = (cutter_3_xy[0] - 14 , cutter_3_xy[1] + 6)\n",
        "\n",
        "    cuts = { 'cutter_1_xy': {\n",
        "              'color': 'blue',\n",
        "              'moves': [cut_1_go, cut_1_come] },\n",
        "            'cutter_2_xy': {\n",
        "                'color': 'red',\n",
        "                'moves': [cut_2_go, cut_2_come]} ,\n",
        "            'cutter_3_xy': {\n",
        "                'color': 'green',\n",
        "                'moves': [cut_3_go, cut_3_come]} \n",
        "            }\n",
        "\n",
        "    print(cuts.keys)\n",
        "    for cutter, props in cuts.items():\n",
        "      print(str(cutter))\n",
        "      ax.annotate(\"\", xy = props['moves'][0], \n",
        "               xytext = locals()[str(cutter)], \n",
        "               arrowprops=dict(arrowstyle=\"->\",connectionstyle=\"arc3\", color = props['color']),)\n",
        "      ax.annotate(\"\", xy = props['moves'][1], \n",
        "               xytext = props['moves'][0], \n",
        "               arrowprops=dict(arrowstyle=\"->\",connectionstyle=\"arc3\", color = props['color']),)"
      ],
      "metadata": {
        "id": "FwrnyS21XoCV"
      },
      "execution_count": 12,
      "outputs": []
    },
    {
      "cell_type": "code",
      "source": [
        "#@title\n",
        "fig=plt.figure() #set up the figures\n",
        "fig.set_size_inches(12, 4)\n",
        "ax=fig.add_subplot(1,1,1)\n",
        "\n",
        "draw_pitch(ax) #overlay our different objects on the pitch\n",
        "draw_team_attack_horizontal_stack_flick_only_center(ax)\n",
        "draw_team_defense_horizontal_stack_flick_only_center(ax)\n",
        "draw_moves_horizontal_stack_flick_only_center(ax)\n",
        "\n",
        "plt.ylim(-2, 40)\n",
        "plt.xlim(-2, 114)\n",
        "\n",
        "\n",
        "\n",
        "plt.axis('off')\n",
        "plt.show() "
      ],
      "metadata": {
        "colab": {
          "base_uri": "https://localhost:8080/",
          "height": 317
        },
        "id": "yL-jfxsIXoND",
        "outputId": "e7e3ab11-7159-4aa6-dae5-cfe367947fa2"
      },
      "execution_count": 13,
      "outputs": [
        {
          "output_type": "stream",
          "name": "stdout",
          "text": [
            "<built-in method keys of dict object at 0x7f1c02493b40>\n",
            "cutter_1_xy\n",
            "cutter_2_xy\n",
            "cutter_3_xy\n"
          ]
        },
        {
          "output_type": "display_data",
          "data": {
            "image/png": "[encoded data removed]",
            "text/plain": [
              "<Figure size 864x288 with 1 Axes>"
            ]
          },
          "metadata": {
            "needs_background": "light"
          }
        }
      ]
    },
    {
      "cell_type": "code",
      "source": [
        "def draw_team_attack_horizontal_stack_back_only_band(ax):\n",
        "  handler_xy=(30,9)\n",
        "  Ninja_handler =  CirclePolygon(handler_xy, 1.5, hatch =\"*\", color='blue')\n",
        "  disc_back=(handler_xy[0] + 2, handler_xy[1] + 2)\n",
        "  disc_flick=(handler_xy[0] + 2, handler_xy[1] - 2)\n",
        "  Disc =  Circle(disc_back, 1, color=\"green\")\n",
        "  ninja_1_xy=(handler_xy[0] +5 , handler_xy[1] + 15)\n",
        "  Ninja_1 =  CirclePolygon(ninja_1_xy, 1.5, hatch =\"*\", color='blue')\n",
        "\n",
        "  cutter_1_xy=(handler_xy[0] + 21 , 26.5)\n",
        "  Cutter_1 =  CirclePolygon(cutter_1_xy, 1.5, hatch =\"*\", color='blue')\n",
        "  cutter_2_xy=(handler_xy[0] + 21 , 18.5)\n",
        "  Cutter_2 =  CirclePolygon(cutter_2_xy, 1.5, hatch =\"*\", color='blue')\n",
        "  cutter_3_xy=(handler_xy[0] + 21 , 10.5)\n",
        "  Cutter_3 =  CirclePolygon(cutter_3_xy, 1.5, hatch =\"*\", color='blue')\n",
        "  \n",
        "  element = [Ninja_handler, Disc, Ninja_1, Cutter_1, Cutter_2, Cutter_3]\n",
        "  for i in element:\n",
        "      ax.add_patch(i)\n",
        "      \n",
        "def draw_team_defense_horizontal_stack_back_only_band(ax):\n",
        "  defend_handler_xy=(33,7)\n",
        "  Defense_handler =  CirclePolygon(defend_handler_xy, 1.5, hatch =\"\", color='red')\n",
        "  defend_ninja_1_xy=(defend_handler_xy[0] + 1 , defend_handler_xy[1] + 12)\n",
        "  Defense_Ninja_1 =  CirclePolygon(defend_ninja_1_xy, 1.5, hatch =\"*\", color='red')\n",
        "\n",
        "  defend_cutter_1_xy=(defend_handler_xy[0] + 15 , 23.5)\n",
        "  Defense_Cutter_1 =  CirclePolygon(defend_cutter_1_xy, 1.5, hatch =\"*\", color='red')\n",
        "  defend_cutter_2_xy=(defend_handler_xy[0] + 15 , 15.5)\n",
        "  Defense_Cutter_2 =  CirclePolygon(defend_cutter_2_xy, 1.5, hatch =\"*\", color='red')\n",
        "  defend_cutter_3_xy=(defend_handler_xy[0] + 15 , 8.5)\n",
        "  Defense_Cutter_3 =  CirclePolygon(defend_cutter_3_xy, 1.5, hatch =\"*\", color='red')\n",
        "  \n",
        "  element = [Defense_handler, Defense_Ninja_1, \n",
        "             Defense_Cutter_1, Defense_Cutter_2, Defense_Cutter_3]\n",
        "  for i in element:\n",
        "      ax.add_patch(i)\n",
        "\n",
        "def draw_moves_horizontal_stack_back_only_band(ax):\n",
        "    handler_xy=(30,9)\n",
        "\n",
        "    cutter_1_xy=(handler_xy[0] + 21 , 26.5)\n",
        "    cutter_2_xy=(handler_xy[0] + 21 , 18.5)\n",
        "    cutter_3_xy=(handler_xy[0] + 21 , 10.5)\n",
        "\n",
        "    cut_1_go = (cutter_1_xy[0] + 6, cutter_1_xy[1] + 9 )\n",
        "    cut_1_come = (cutter_1_xy[0] - 12, cutter_1_xy[1] - 9 )\n",
        "    cut_2_go = (cutter_2_xy[0] - 9, cutter_2_xy[1] + 3)\n",
        "    cut_2_come = (cutter_2_xy[0] + 12, cutter_2_xy[1] + 0)\n",
        "    cut_3_go = (cutter_3_xy[0] - 6, cutter_3_xy[1] - 9)\n",
        "    cut_3_come = (cutter_3_xy[0] + 14 , cutter_3_xy[1] + 14)\n",
        "\n",
        "    cuts = { 'cutter_1_xy': {\n",
        "              'color': 'blue',\n",
        "              'moves': [cut_1_go, cut_1_come] },\n",
        "            'cutter_2_xy': {\n",
        "                'color': 'red',\n",
        "                'moves': [cut_2_go, cut_2_come]} ,\n",
        "            'cutter_3_xy': {\n",
        "                'color': 'green',\n",
        "                'moves': [cut_3_go, cut_3_come]} \n",
        "            }\n",
        "\n",
        "    print(cuts.keys)\n",
        "    for cutter, props in cuts.items():\n",
        "      print(str(cutter))\n",
        "      ax.annotate(\"\", xy = props['moves'][0], \n",
        "               xytext = locals()[str(cutter)], \n",
        "               arrowprops=dict(arrowstyle=\"->\",connectionstyle=\"arc3\", color = props['color']),)\n",
        "      ax.annotate(\"\", xy = props['moves'][1], \n",
        "               xytext = props['moves'][0], \n",
        "               arrowprops=dict(arrowstyle=\"->\",connectionstyle=\"arc3\", color = props['color']),)"
      ],
      "metadata": {
        "id": "QYp88bErlyEg"
      },
      "execution_count": 14,
      "outputs": []
    },
    {
      "cell_type": "code",
      "source": [
        "fig=plt.figure() #set up the figures\n",
        "fig.set_size_inches(12, 4)\n",
        "ax=fig.add_subplot(1,1,1)\n",
        "\n",
        "draw_pitch(ax) #overlay our different objects on the pitch\n",
        "draw_team_attack_horizontal_stack_back_only_band(ax)\n",
        "draw_team_defense_horizontal_stack_back_only_band(ax)\n",
        "draw_moves_horizontal_stack_back_only_band(ax)\n",
        "\n",
        "plt.ylim(-2, 40)\n",
        "plt.xlim(-2, 114)\n",
        "\n",
        "\n",
        "\n",
        "plt.axis('off')\n",
        "plt.show() "
      ],
      "metadata": {
        "colab": {
          "base_uri": "https://localhost:8080/",
          "height": 317
        },
        "id": "qxCXeo6ip29b",
        "outputId": "5ec97c89-8c24-4f7e-9c10-d46c4af78f83"
      },
      "execution_count": 15,
      "outputs": [
        {
          "output_type": "stream",
          "name": "stdout",
          "text": [
            "<built-in method keys of dict object at 0x7f1c02420870>\n",
            "cutter_1_xy\n",
            "cutter_2_xy\n",
            "cutter_3_xy\n"
          ]
        },
        {
          "output_type": "display_data",
          "data": {
            "image/png": "[encoded data removed]",
            "text/plain": [
              "<Figure size 864x288 with 1 Axes>"
            ]
          },
          "metadata": {
            "needs_background": "light"
          }
        }
      ]
    },
    {
      "cell_type": "code",
      "source": [
        "def draw_team_attack_horizontal_stack_back_only_center(ax):\n",
        "  handler_xy=(30,25)\n",
        "  Ninja_handler =  CirclePolygon(handler_xy, 1.5, hatch =\"*\", color='blue')\n",
        "  disc_back=(handler_xy[0] + 2, handler_xy[1] + 2)\n",
        "  disc_flick=(handler_xy[0] + 2, handler_xy[1] - 2)\n",
        "  Disc =  Circle(disc_back, 1, color=\"green\")\n",
        "  ninja_1_xy=(handler_xy[0] +5 , handler_xy[1] - 15)\n",
        "  Ninja_1 =  CirclePolygon(ninja_1_xy, 1.5, hatch =\"*\", color='blue')\n",
        "\n",
        "  cutter_1_xy=(handler_xy[0] + 21 , 26.5)\n",
        "  Cutter_1 =  CirclePolygon(cutter_1_xy, 1.5, hatch =\"*\", color='blue')\n",
        "  cutter_2_xy=(handler_xy[0] + 21 , 18.5)\n",
        "  Cutter_2 =  CirclePolygon(cutter_2_xy, 1.5, hatch =\"*\", color='blue')\n",
        "  cutter_3_xy=(handler_xy[0] + 21 , 10.5)\n",
        "  Cutter_3 =  CirclePolygon(cutter_3_xy, 1.5, hatch =\"*\", color='blue')\n",
        "  \n",
        "  element = [Ninja_handler, Disc, Ninja_1, Cutter_1, Cutter_2, Cutter_3]\n",
        "  for i in element:\n",
        "      ax.add_patch(i)\n",
        "      \n",
        "def draw_team_defense_horizontal_stack_back_only_center(ax):\n",
        "  defend_handler_xy=(33,23)\n",
        "  Defense_handler =  CirclePolygon(defend_handler_xy, 1.5, hatch =\"\", color='red')\n",
        "  defend_ninja_1_xy=(defend_handler_xy[0] + 1 , defend_handler_xy[1] - 9)\n",
        "  Defense_Ninja_1 =  CirclePolygon(defend_ninja_1_xy, 1.5, hatch =\"*\", color='red')\n",
        "\n",
        "  defend_cutter_1_xy=(defend_handler_xy[0] + 15 , 29.5)\n",
        "  Defense_Cutter_1 =  CirclePolygon(defend_cutter_1_xy, 1.5, hatch =\"*\", color='red')\n",
        "  defend_cutter_2_xy=(defend_handler_xy[0] + 15 , 21.5)\n",
        "  Defense_Cutter_2 =  CirclePolygon(defend_cutter_2_xy, 1.5, hatch =\"*\", color='red')\n",
        "  defend_cutter_3_xy=(defend_handler_xy[0] + 15 , 12.5)\n",
        "  Defense_Cutter_3 =  CirclePolygon(defend_cutter_3_xy, 1.5, hatch =\"*\", color='red')\n",
        "  \n",
        "  element = [Defense_handler, Defense_Ninja_1, \n",
        "             Defense_Cutter_1, Defense_Cutter_2, Defense_Cutter_3]\n",
        "  for i in element:\n",
        "      ax.add_patch(i)\n",
        "\n",
        "def draw_moves_horizontal_stack_back_only_center(ax):\n",
        "    handler_xy=(30,9)\n",
        "\n",
        "    cutter_1_xy=(handler_xy[0] + 21 , 26.5)\n",
        "    cutter_2_xy=(handler_xy[0] + 21 , 18.5)\n",
        "    cutter_3_xy=(handler_xy[0] + 21 , 10.5)\n",
        "\n",
        "    cut_1_go = (cutter_1_xy[0] - 9, cutter_1_xy[1] - 6 )\n",
        "    cut_1_come = (cutter_1_xy[0] + 15, cutter_1_xy[1] + 6 )\n",
        "    cut_2_go = (cutter_2_xy[0] - 9, cutter_2_xy[1] - 6)\n",
        "    cut_2_come = (cutter_2_xy[0] + 15, cutter_2_xy[1] + 6)\n",
        "    cut_3_go = (cutter_3_xy[0] + 9, cutter_3_xy[1] - 3)\n",
        "    cut_3_come = (cutter_3_xy[0] - 14 , cutter_3_xy[1] + 14)\n",
        "\n",
        "    cuts = { 'cutter_1_xy': {\n",
        "              'color': 'blue',\n",
        "              'moves': [cut_1_go, cut_1_come] },\n",
        "            'cutter_2_xy': {\n",
        "                'color': 'red',\n",
        "                'moves': [cut_2_go, cut_2_come]} ,\n",
        "            'cutter_3_xy': {\n",
        "                'color': 'green',\n",
        "                'moves': [cut_3_go, cut_3_come]} \n",
        "            }\n",
        "\n",
        "    print(cuts.keys)\n",
        "    for cutter, props in cuts.items():\n",
        "      print(str(cutter))\n",
        "      ax.annotate(\"\", xy = props['moves'][0], \n",
        "               xytext = locals()[str(cutter)], \n",
        "               arrowprops=dict(arrowstyle=\"->\",connectionstyle=\"arc3\", color = props['color']),)\n",
        "      ax.annotate(\"\", xy = props['moves'][1], \n",
        "               xytext = props['moves'][0], \n",
        "               arrowprops=dict(arrowstyle=\"->\",connectionstyle=\"arc3\", color = props['color']),)"
      ],
      "metadata": {
        "id": "lvGU9Hx3p7DM"
      },
      "execution_count": 16,
      "outputs": []
    },
    {
      "cell_type": "code",
      "source": [
        "fig=plt.figure() #set up the figures\n",
        "fig.set_size_inches(12, 4)\n",
        "ax=fig.add_subplot(1,1,1)\n",
        "\n",
        "draw_pitch(ax) #overlay our different objects on the pitch\n",
        "draw_team_attack_horizontal_stack_back_only_center(ax)\n",
        "draw_team_defense_horizontal_stack_back_only_center(ax)\n",
        "draw_moves_horizontal_stack_back_only_center(ax)\n",
        "\n",
        "plt.ylim(-2, 40)\n",
        "plt.xlim(-2, 114)\n",
        "\n",
        "\n",
        "\n",
        "plt.axis('off')\n",
        "plt.show() "
      ],
      "metadata": {
        "colab": {
          "base_uri": "https://localhost:8080/",
          "height": 317
        },
        "id": "QkpxQCO2b3Ne",
        "outputId": "27511a74-4da5-432a-9766-a555d89bf03e"
      },
      "execution_count": 17,
      "outputs": [
        {
          "output_type": "stream",
          "name": "stdout",
          "text": [
            "<built-in method keys of dict object at 0x7f1c023af4b0>\n",
            "cutter_1_xy\n",
            "cutter_2_xy\n",
            "cutter_3_xy\n"
          ]
        },
        {
          "output_type": "display_data",
          "data": {
            "image/png": "[encoded data removed]",
            "text/plain": [
              "<Figure size 864x288 with 1 Axes>"
            ]
          },
          "metadata": {
            "needs_background": "light"
          }
        }
      ]
    },
    {
      "cell_type": "code",
      "source": [
        ""
      ],
      "metadata": {
        "id": "gkcHuyaBcBzk"
      },
      "execution_count": 17,
      "outputs": []
    }
  ]
}